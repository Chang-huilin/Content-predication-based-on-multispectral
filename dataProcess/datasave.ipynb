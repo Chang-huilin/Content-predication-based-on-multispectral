{
 "cells": [
  {
   "cell_type": "code",
   "execution_count": null,
   "metadata": {},
   "outputs": [],
   "source": [
    "import pandas as pd\n",
    "import os\n",
    "\n",
    "# 设置文件夹路径和Excel输出路径\n",
    "folder_path = r\"D:\\茶叶干燥过程\\茶叶多光谱图像\\热风第一批140个样+水分\\data\"\n",
    "output_excel_path = r\"D:\\茶叶干燥过程\\茶叶多光谱图像\\热风第一批140个样+水分\\output1.xlsx\"\n",
    "\n",
    "# 创建一个空的DataFrame用于存储所有的数据\n",
    "all_data = []\n",
    "\n",
    "# 遍历文件夹中的CSV文件\n",
    "for filename in os.listdir(folder_path):\n",
    "    if filename.endswith('.csv'):\n",
    "        # 构造文件的完整路径\n",
    "        file_path = os.path.join(folder_path, filename)\n",
    "        \n",
    "        # 读取CSV文件\n",
    "        df = pd.read_csv(file_path, header=None)\n",
    "        \n",
    "        # 提取第二行，从第五列开始的25个数据（索引从0开始，所以第五列是索引4）\n",
    "        row_data = df.iloc[1, 4:29]\n",
    "        \n",
    "        # 将数据追加到all_data列表中\n",
    "        all_data.append(row_data)\n",
    "\n",
    "# 将所有数据转换为DataFrame\n",
    "result_df = pd.DataFrame(all_data)\n",
    "\n",
    "# 将DataFrame保存为Excel文件\n",
    "result_df.to_excel(output_excel_path, index=False)\n",
    "\n",
    "print(\"数据已成功保存到Excel文件。\")\n"
   ]
  },
  {
   "cell_type": "code",
   "execution_count": 2,
   "metadata": {},
   "outputs": [
    {
     "name": "stdout",
     "output_type": "stream",
     "text": [
      "数据按行合并完成，结果为 280 行 25 列！\n"
     ]
    }
   ],
   "source": [
    "import pandas as pd\n",
    "\n",
    "# 读取 Excel 文件\n",
    "df1 = pd.read_excel(r\"D:\\day1.xlsx\")\n",
    "df2 = pd.read_excel(r\"D:\\day2.xlsx\")\n",
    "\n",
    "# 确保两个表格的列数一致\n",
    "if df1.shape[1] == df2.shape[1]:\n",
    "    # 按行合并\n",
    "    merged_df = pd.concat([df1, df2], axis=0, ignore_index=True)\n",
    "\n",
    "    # 保存合并后的数据到新的 Excel 文件\n",
    "    merged_df.to_excel(r\"D:\\merged_data1.xlsx\", index=False)\n",
    "    print(\"数据按行合并完成，结果为 280 行 25 列！\")\n",
    "else:\n",
    "    print(\"两个表格的列数不一致，请检查数据！\")\n"
   ]
  }
 ],
 "metadata": {
  "kernelspec": {
   "display_name": "42",
   "language": "python",
   "name": "python3"
  },
  "language_info": {
   "codemirror_mode": {
    "name": "ipython",
    "version": 3
   },
   "file_extension": ".py",
   "mimetype": "text/x-python",
   "name": "python",
   "nbconvert_exporter": "python",
   "pygments_lexer": "ipython3",
   "version": "3.12.4"
  }
 },
 "nbformat": 4,
 "nbformat_minor": 2
}
