{
 "cells": [
  {
   "cell_type": "code",
   "execution_count": 19,
   "metadata": {
    "ExecuteTime": {
     "end_time": "2024-11-13T15:05:57.971355Z",
     "start_time": "2024-11-13T15:05:57.963664Z"
    }
   },
   "outputs": [],
   "source": [
    "import numpy as np\n",
    "import matplotlib.pyplot as plt\n",
    "import pandas as pd\n",
    "from sklearn import preprocessing\n",
    "from sklearn.metrics import mean_squared_error\n",
    "from sklearn.metrics import mean_absolute_error\n",
    "from math import sqrt\n",
    "from keras.layers import Conv1D, MaxPooling1D, Dropout, Bidirectional, LSTM, Dense, Multiply, Input\n",
    "from keras.models import Model\n",
    "from keras.optimizers import Adam\n",
    "\n"
   ]
  },
  {
   "cell_type": "code",
   "execution_count": 20,
   "metadata": {
    "ExecuteTime": {
     "end_time": "2024-11-13T15:05:58.027469Z",
     "start_time": "2024-11-13T15:05:57.969061Z"
    }
   },
   "outputs": [
    {
     "name": "stdout",
     "output_type": "stream",
     "text": [
      "2.16.2\n"
     ]
    }
   ],
   "source": [
    "import tensorflow as tf\n",
    "print(tf.__version__)\n"
   ]
  },
  {
   "cell_type": "code",
   "execution_count": 26,
   "metadata": {
    "ExecuteTime": {
     "end_time": "2024-11-13T15:05:58.036935Z",
     "start_time": "2024-11-13T15:05:57.984641Z"
    }
   },
   "outputs": [
    {
     "data": {
      "text/html": [
       "<div>\n",
       "<style scoped>\n",
       "    .dataframe tbody tr th:only-of-type {\n",
       "        vertical-align: middle;\n",
       "    }\n",
       "\n",
       "    .dataframe tbody tr th {\n",
       "        vertical-align: top;\n",
       "    }\n",
       "\n",
       "    .dataframe thead th {\n",
       "        text-align: right;\n",
       "    }\n",
       "</style>\n",
       "<table border=\"1\" class=\"dataframe\">\n",
       "  <thead>\n",
       "    <tr style=\"text-align: right;\">\n",
       "      <th></th>\n",
       "      <th>0.342420</th>\n",
       "      <th>0.316625</th>\n",
       "      <th>0.290347</th>\n",
       "      <th>0.273986</th>\n",
       "      <th>0.272752</th>\n",
       "      <th>0.289864</th>\n",
       "      <th>0.308849</th>\n",
       "      <th>0.324115</th>\n",
       "      <th>0.346336</th>\n",
       "      <th>0.357423</th>\n",
       "      <th>...</th>\n",
       "      <th>0.363766</th>\n",
       "      <th>0.371063</th>\n",
       "      <th>0.376542</th>\n",
       "      <th>0.381839</th>\n",
       "      <th>0.386794</th>\n",
       "      <th>0.383438</th>\n",
       "      <th>0.384783</th>\n",
       "      <th>0.384189</th>\n",
       "      <th>0.382555</th>\n",
       "      <th>6.953933</th>\n",
       "    </tr>\n",
       "  </thead>\n",
       "  <tbody>\n",
       "    <tr>\n",
       "      <th>274</th>\n",
       "      <td>0.433461</td>\n",
       "      <td>0.402856</td>\n",
       "      <td>0.381406</td>\n",
       "      <td>0.375895</td>\n",
       "      <td>0.385752</td>\n",
       "      <td>0.412182</td>\n",
       "      <td>0.430033</td>\n",
       "      <td>0.437827</td>\n",
       "      <td>0.447745</td>\n",
       "      <td>0.453083</td>\n",
       "      <td>...</td>\n",
       "      <td>0.459140</td>\n",
       "      <td>0.467921</td>\n",
       "      <td>0.474315</td>\n",
       "      <td>0.480313</td>\n",
       "      <td>0.485094</td>\n",
       "      <td>0.480621</td>\n",
       "      <td>0.482433</td>\n",
       "      <td>0.482368</td>\n",
       "      <td>0.480985</td>\n",
       "      <td>3.273756</td>\n",
       "    </tr>\n",
       "    <tr>\n",
       "      <th>275</th>\n",
       "      <td>0.434980</td>\n",
       "      <td>0.403904</td>\n",
       "      <td>0.381912</td>\n",
       "      <td>0.376147</td>\n",
       "      <td>0.386819</td>\n",
       "      <td>0.415208</td>\n",
       "      <td>0.433868</td>\n",
       "      <td>0.443135</td>\n",
       "      <td>0.453978</td>\n",
       "      <td>0.459478</td>\n",
       "      <td>...</td>\n",
       "      <td>0.463429</td>\n",
       "      <td>0.471867</td>\n",
       "      <td>0.478308</td>\n",
       "      <td>0.483899</td>\n",
       "      <td>0.488524</td>\n",
       "      <td>0.483526</td>\n",
       "      <td>0.484783</td>\n",
       "      <td>0.484552</td>\n",
       "      <td>0.483152</td>\n",
       "      <td>3.260194</td>\n",
       "    </tr>\n",
       "    <tr>\n",
       "      <th>276</th>\n",
       "      <td>0.405303</td>\n",
       "      <td>0.375872</td>\n",
       "      <td>0.352539</td>\n",
       "      <td>0.343411</td>\n",
       "      <td>0.350037</td>\n",
       "      <td>0.374317</td>\n",
       "      <td>0.392863</td>\n",
       "      <td>0.401946</td>\n",
       "      <td>0.414079</td>\n",
       "      <td>0.420124</td>\n",
       "      <td>...</td>\n",
       "      <td>0.427572</td>\n",
       "      <td>0.435774</td>\n",
       "      <td>0.441642</td>\n",
       "      <td>0.447477</td>\n",
       "      <td>0.452040</td>\n",
       "      <td>0.447834</td>\n",
       "      <td>0.449284</td>\n",
       "      <td>0.449401</td>\n",
       "      <td>0.448124</td>\n",
       "      <td>2.905737</td>\n",
       "    </tr>\n",
       "    <tr>\n",
       "      <th>277</th>\n",
       "      <td>0.387226</td>\n",
       "      <td>0.358824</td>\n",
       "      <td>0.335553</td>\n",
       "      <td>0.325727</td>\n",
       "      <td>0.331143</td>\n",
       "      <td>0.353771</td>\n",
       "      <td>0.371129</td>\n",
       "      <td>0.378691</td>\n",
       "      <td>0.390897</td>\n",
       "      <td>0.396978</td>\n",
       "      <td>...</td>\n",
       "      <td>0.406126</td>\n",
       "      <td>0.414248</td>\n",
       "      <td>0.420250</td>\n",
       "      <td>0.425807</td>\n",
       "      <td>0.430321</td>\n",
       "      <td>0.426749</td>\n",
       "      <td>0.428647</td>\n",
       "      <td>0.428787</td>\n",
       "      <td>0.427817</td>\n",
       "      <td>2.905737</td>\n",
       "    </tr>\n",
       "    <tr>\n",
       "      <th>278</th>\n",
       "      <td>0.439254</td>\n",
       "      <td>0.406130</td>\n",
       "      <td>0.379936</td>\n",
       "      <td>0.369827</td>\n",
       "      <td>0.377637</td>\n",
       "      <td>0.405595</td>\n",
       "      <td>0.426646</td>\n",
       "      <td>0.436677</td>\n",
       "      <td>0.450052</td>\n",
       "      <td>0.457096</td>\n",
       "      <td>...</td>\n",
       "      <td>0.465571</td>\n",
       "      <td>0.474036</td>\n",
       "      <td>0.480601</td>\n",
       "      <td>0.487038</td>\n",
       "      <td>0.492312</td>\n",
       "      <td>0.487462</td>\n",
       "      <td>0.489093</td>\n",
       "      <td>0.488860</td>\n",
       "      <td>0.487465</td>\n",
       "      <td>2.921562</td>\n",
       "    </tr>\n",
       "  </tbody>\n",
       "</table>\n",
       "<p>5 rows × 26 columns</p>\n",
       "</div>"
      ],
      "text/plain": [
       "     0.342420  0.316625  0.290347  0.273986  0.272752  0.289864  0.308849  \\\n",
       "274  0.433461  0.402856  0.381406  0.375895  0.385752  0.412182  0.430033   \n",
       "275  0.434980  0.403904  0.381912  0.376147  0.386819  0.415208  0.433868   \n",
       "276  0.405303  0.375872  0.352539  0.343411  0.350037  0.374317  0.392863   \n",
       "277  0.387226  0.358824  0.335553  0.325727  0.331143  0.353771  0.371129   \n",
       "278  0.439254  0.406130  0.379936  0.369827  0.377637  0.405595  0.426646   \n",
       "\n",
       "     0.324115  0.346336  0.357423  ...  0.363766  0.371063  0.376542  \\\n",
       "274  0.437827  0.447745  0.453083  ...  0.459140  0.467921  0.474315   \n",
       "275  0.443135  0.453978  0.459478  ...  0.463429  0.471867  0.478308   \n",
       "276  0.401946  0.414079  0.420124  ...  0.427572  0.435774  0.441642   \n",
       "277  0.378691  0.390897  0.396978  ...  0.406126  0.414248  0.420250   \n",
       "278  0.436677  0.450052  0.457096  ...  0.465571  0.474036  0.480601   \n",
       "\n",
       "     0.381839  0.386794  0.383438  0.384783  0.384189  0.382555  6.953933  \n",
       "274  0.480313  0.485094  0.480621  0.482433  0.482368  0.480985  3.273756  \n",
       "275  0.483899  0.488524  0.483526  0.484783  0.484552  0.483152  3.260194  \n",
       "276  0.447477  0.452040  0.447834  0.449284  0.449401  0.448124  2.905737  \n",
       "277  0.425807  0.430321  0.426749  0.428647  0.428787  0.427817  2.905737  \n",
       "278  0.487038  0.492312  0.487462  0.489093  0.488860  0.487465  2.921562  \n",
       "\n",
       "[5 rows x 26 columns]"
      ]
     },
     "execution_count": 26,
     "metadata": {},
     "output_type": "execute_result"
    }
   ],
   "source": [
    "#设置LSTM的时间窗等参数\n",
    "window=5\n",
    "lstm_units = 16\n",
    "dropout = 0.01\n",
    "epoch=60\n",
    "#读取数据\n",
    "df1 = pd.read_excel('D:\\\\merged_output.xlsx')\n",
    "#df1=df1.iloc[:,2:] \n",
    "df1.tail()"
   ]
  },
  {
   "cell_type": "code",
   "execution_count": 31,
   "metadata": {
    "ExecuteTime": {
     "end_time": "2024-11-13T15:05:58.036935Z",
     "start_time": "2024-11-13T15:05:58.014431Z"
    }
   },
   "outputs": [
    {
     "name": "stdout",
     "output_type": "stream",
     "text": [
      "26\n"
     ]
    }
   ],
   "source": [
    "#进行数据归一化\n",
    "from sklearn import preprocessing\n",
    "min_max_scaler = preprocessing.MinMaxScaler()\n",
    "df0=min_max_scaler.fit_transform(df1)\n",
    "df = pd.DataFrame(df0, columns=df1.columns)\n",
    "input_size=len(df.iloc[1,:])\n",
    "print(input_size)"
   ]
  },
  {
   "cell_type": "code",
   "execution_count": 40,
   "metadata": {
    "ExecuteTime": {
     "end_time": "2024-11-13T15:05:58.082596Z",
     "start_time": "2024-11-13T15:05:58.032919Z"
    }
   },
   "outputs": [
    {
     "name": "stdout",
     "output_type": "stream",
     "text": [
      "(164, 5, 25) (164,) (109, 5, 25) (109,)\n"
     ]
    }
   ],
   "source": [
    "# 构建 LSTM 输入\n",
    "stock = df.iloc[:, :25]  # 前25个特征作为输入变���\n",
    "y = df.iloc[:, 25].values  # 第26列作为响应变量\n",
    "\n",
    "seq_len = window\n",
    "amount_of_features = stock.shape[1]  # 输入特征数量\n",
    "data = stock.to_numpy()  # 转换为 NumPy 数组\n",
    "sequence_length = seq_len + 1  # 序列长度\n",
    "result = []\n",
    "\n",
    "for index in range(len(data) - sequence_length):\n",
    "    result.append(data[index: index + sequence_length])\n",
    "result = np.array(result)\n",
    "\n",
    "# 划分训练集和测试集\n",
    "row = round(0.6 * result.shape[0])  # 60% 用于训练，40% 用于测试\n",
    "train = result[:int(row), :]\n",
    "x_train = train[:, :-1]  # 训练集特征\n",
    "x_test = result[int(row):, :-1]  # 测试集特征\n",
    "\n",
    "# 处理响应变量\n",
    "y_train = y[seq_len: seq_len + len(x_train)]\n",
    "y_test = y[seq_len + len(x_train): seq_len + len(x_train) + len(x_test)]\n",
    "\n",
    "# 重新 reshape 数据为 LSTM 输入形式\n",
    "X_train = np.reshape(x_train, (x_train.shape[0], x_train.shape[1], amount_of_features))\n",
    "X_test = np.reshape(x_test, (x_test.shape[0], x_test.shape[1], amount_of_features))\n",
    "\n",
    "print(X_train.shape, y_train.shape, X_test.shape, y_test.shape)"
   ]
  },
  {
   "cell_type": "code",
   "execution_count": 41,
   "metadata": {
    "ExecuteTime": {
     "end_time": "2024-11-13T15:05:58.352869Z",
     "start_time": "2024-11-13T15:05:58.062453Z"
    }
   },
   "outputs": [
    {
     "data": {
      "text/html": [
       "<pre style=\"white-space:pre;overflow-x:auto;line-height:normal;font-family:Menlo,'DejaVu Sans Mono',consolas,'Courier New',monospace\"><span style=\"font-weight: bold\">Model: \"functional_2\"</span>\n",
       "</pre>\n"
      ],
      "text/plain": [
       "\u001b[1mModel: \"functional_2\"\u001b[0m\n"
      ]
     },
     "metadata": {},
     "output_type": "display_data"
    },
    {
     "data": {
      "text/html": [
       "<pre style=\"white-space:pre;overflow-x:auto;line-height:normal;font-family:Menlo,'DejaVu Sans Mono',consolas,'Courier New',monospace\">┏━━━━━━━━━━━━━━━━━━━━━┳━━━━━━━━━━━━━━━━━━━┳━━━━━━━━━━━━┳━━━━━━━━━━━━━━━━━━━┓\n",
       "┃<span style=\"font-weight: bold\"> Layer (type)        </span>┃<span style=\"font-weight: bold\"> Output Shape      </span>┃<span style=\"font-weight: bold\">    Param # </span>┃<span style=\"font-weight: bold\"> Connected to      </span>┃\n",
       "┡━━━━━━━━━━━━━━━━━━━━━╇━━━━━━━━━━━━━━━━━━━╇━━━━━━━━━━━━╇━━━━━━━━━━━━━━━━━━━┩\n",
       "│ input_layer_2       │ (<span style=\"color: #00d7ff; text-decoration-color: #00d7ff\">None</span>, <span style=\"color: #00af00; text-decoration-color: #00af00\">5</span>, <span style=\"color: #00af00; text-decoration-color: #00af00\">26</span>)     │          <span style=\"color: #00af00; text-decoration-color: #00af00\">0</span> │ -                 │\n",
       "│ (<span style=\"color: #0087ff; text-decoration-color: #0087ff\">InputLayer</span>)        │                   │            │                   │\n",
       "├─────────────────────┼───────────────────┼────────────┼───────────────────┤\n",
       "│ conv1d_2 (<span style=\"color: #0087ff; text-decoration-color: #0087ff\">Conv1D</span>)   │ (<span style=\"color: #00d7ff; text-decoration-color: #00d7ff\">None</span>, <span style=\"color: #00af00; text-decoration-color: #00af00\">5</span>, <span style=\"color: #00af00; text-decoration-color: #00af00\">16</span>)     │        <span style=\"color: #00af00; text-decoration-color: #00af00\">432</span> │ input_layer_2[<span style=\"color: #00af00; text-decoration-color: #00af00\">0</span>]… │\n",
       "├─────────────────────┼───────────────────┼────────────┼───────────────────┤\n",
       "│ max_pooling1d_2     │ (<span style=\"color: #00d7ff; text-decoration-color: #00d7ff\">None</span>, <span style=\"color: #00af00; text-decoration-color: #00af00\">1</span>, <span style=\"color: #00af00; text-decoration-color: #00af00\">16</span>)     │          <span style=\"color: #00af00; text-decoration-color: #00af00\">0</span> │ conv1d_2[<span style=\"color: #00af00; text-decoration-color: #00af00\">0</span>][<span style=\"color: #00af00; text-decoration-color: #00af00\">0</span>]    │\n",
       "│ (<span style=\"color: #0087ff; text-decoration-color: #0087ff\">MaxPooling1D</span>)      │                   │            │                   │\n",
       "├─────────────────────┼───────────────────┼────────────┼───────────────────┤\n",
       "│ dropout_2 (<span style=\"color: #0087ff; text-decoration-color: #0087ff\">Dropout</span>) │ (<span style=\"color: #00d7ff; text-decoration-color: #00d7ff\">None</span>, <span style=\"color: #00af00; text-decoration-color: #00af00\">1</span>, <span style=\"color: #00af00; text-decoration-color: #00af00\">16</span>)     │          <span style=\"color: #00af00; text-decoration-color: #00af00\">0</span> │ max_pooling1d_2[<span style=\"color: #00af00; text-decoration-color: #00af00\">…</span> │\n",
       "├─────────────────────┼───────────────────┼────────────┼───────────────────┤\n",
       "│ bilstm              │ (<span style=\"color: #00d7ff; text-decoration-color: #00d7ff\">None</span>, <span style=\"color: #00af00; text-decoration-color: #00af00\">32</span>)        │      <span style=\"color: #00af00; text-decoration-color: #00af00\">4,224</span> │ dropout_2[<span style=\"color: #00af00; text-decoration-color: #00af00\">0</span>][<span style=\"color: #00af00; text-decoration-color: #00af00\">0</span>]   │\n",
       "│ (<span style=\"color: #0087ff; text-decoration-color: #0087ff\">Bidirectional</span>)     │                   │            │                   │\n",
       "├─────────────────────┼───────────────────┼────────────┼───────────────────┤\n",
       "│ attention_vec       │ (<span style=\"color: #00d7ff; text-decoration-color: #00d7ff\">None</span>, <span style=\"color: #00af00; text-decoration-color: #00af00\">32</span>)        │      <span style=\"color: #00af00; text-decoration-color: #00af00\">1,056</span> │ bilstm[<span style=\"color: #00af00; text-decoration-color: #00af00\">0</span>][<span style=\"color: #00af00; text-decoration-color: #00af00\">0</span>]      │\n",
       "│ (<span style=\"color: #0087ff; text-decoration-color: #0087ff\">Dense</span>)             │                   │            │                   │\n",
       "├─────────────────────┼───────────────────┼────────────┼───────────────────┤\n",
       "│ multiply_2          │ (<span style=\"color: #00d7ff; text-decoration-color: #00d7ff\">None</span>, <span style=\"color: #00af00; text-decoration-color: #00af00\">32</span>)        │          <span style=\"color: #00af00; text-decoration-color: #00af00\">0</span> │ bilstm[<span style=\"color: #00af00; text-decoration-color: #00af00\">0</span>][<span style=\"color: #00af00; text-decoration-color: #00af00\">0</span>],     │\n",
       "│ (<span style=\"color: #0087ff; text-decoration-color: #0087ff\">Multiply</span>)          │                   │            │ attention_vec[<span style=\"color: #00af00; text-decoration-color: #00af00\">0</span>]… │\n",
       "├─────────────────────┼───────────────────┼────────────┼───────────────────┤\n",
       "│ dense_2 (<span style=\"color: #0087ff; text-decoration-color: #0087ff\">Dense</span>)     │ (<span style=\"color: #00d7ff; text-decoration-color: #00d7ff\">None</span>, <span style=\"color: #00af00; text-decoration-color: #00af00\">1</span>)         │         <span style=\"color: #00af00; text-decoration-color: #00af00\">33</span> │ multiply_2[<span style=\"color: #00af00; text-decoration-color: #00af00\">0</span>][<span style=\"color: #00af00; text-decoration-color: #00af00\">0</span>]  │\n",
       "└─────────────────────┴───────────────────┴────────────┴───────────────────┘\n",
       "</pre>\n"
      ],
      "text/plain": [
       "┏━━━━━━━━━━━━━━━━━━━━━┳━━━━━━━━━━━━━━━━━━━┳━━━━━━━━━━━━┳━━━━━━━━━━━━━━━━━━━┓\n",
       "┃\u001b[1m \u001b[0m\u001b[1mLayer (type)       \u001b[0m\u001b[1m \u001b[0m┃\u001b[1m \u001b[0m\u001b[1mOutput Shape     \u001b[0m\u001b[1m \u001b[0m┃\u001b[1m \u001b[0m\u001b[1m   Param #\u001b[0m\u001b[1m \u001b[0m┃\u001b[1m \u001b[0m\u001b[1mConnected to     \u001b[0m\u001b[1m \u001b[0m┃\n",
       "┡━━━━━━━━━━━━━━━━━━━━━╇━━━━━━━━━━━━━━━━━━━╇━━━━━━━━━━━━╇━━━━━━━━━━━━━━━━━━━┩\n",
       "│ input_layer_2       │ (\u001b[38;5;45mNone\u001b[0m, \u001b[38;5;34m5\u001b[0m, \u001b[38;5;34m26\u001b[0m)     │          \u001b[38;5;34m0\u001b[0m │ -                 │\n",
       "│ (\u001b[38;5;33mInputLayer\u001b[0m)        │                   │            │                   │\n",
       "├─────────────────────┼───────────────────┼────────────┼───────────────────┤\n",
       "│ conv1d_2 (\u001b[38;5;33mConv1D\u001b[0m)   │ (\u001b[38;5;45mNone\u001b[0m, \u001b[38;5;34m5\u001b[0m, \u001b[38;5;34m16\u001b[0m)     │        \u001b[38;5;34m432\u001b[0m │ input_layer_2[\u001b[38;5;34m0\u001b[0m]… │\n",
       "├─────────────────────┼───────────────────┼────────────┼───────────────────┤\n",
       "│ max_pooling1d_2     │ (\u001b[38;5;45mNone\u001b[0m, \u001b[38;5;34m1\u001b[0m, \u001b[38;5;34m16\u001b[0m)     │          \u001b[38;5;34m0\u001b[0m │ conv1d_2[\u001b[38;5;34m0\u001b[0m][\u001b[38;5;34m0\u001b[0m]    │\n",
       "│ (\u001b[38;5;33mMaxPooling1D\u001b[0m)      │                   │            │                   │\n",
       "├─────────────────────┼───────────────────┼────────────┼───────────────────┤\n",
       "│ dropout_2 (\u001b[38;5;33mDropout\u001b[0m) │ (\u001b[38;5;45mNone\u001b[0m, \u001b[38;5;34m1\u001b[0m, \u001b[38;5;34m16\u001b[0m)     │          \u001b[38;5;34m0\u001b[0m │ max_pooling1d_2[\u001b[38;5;34m…\u001b[0m │\n",
       "├─────────────────────┼───────────────────┼────────────┼───────────────────┤\n",
       "│ bilstm              │ (\u001b[38;5;45mNone\u001b[0m, \u001b[38;5;34m32\u001b[0m)        │      \u001b[38;5;34m4,224\u001b[0m │ dropout_2[\u001b[38;5;34m0\u001b[0m][\u001b[38;5;34m0\u001b[0m]   │\n",
       "│ (\u001b[38;5;33mBidirectional\u001b[0m)     │                   │            │                   │\n",
       "├─────────────────────┼───────────────────┼────────────┼───────────────────┤\n",
       "│ attention_vec       │ (\u001b[38;5;45mNone\u001b[0m, \u001b[38;5;34m32\u001b[0m)        │      \u001b[38;5;34m1,056\u001b[0m │ bilstm[\u001b[38;5;34m0\u001b[0m][\u001b[38;5;34m0\u001b[0m]      │\n",
       "│ (\u001b[38;5;33mDense\u001b[0m)             │                   │            │                   │\n",
       "├─────────────────────┼───────────────────┼────────────┼───────────────────┤\n",
       "│ multiply_2          │ (\u001b[38;5;45mNone\u001b[0m, \u001b[38;5;34m32\u001b[0m)        │          \u001b[38;5;34m0\u001b[0m │ bilstm[\u001b[38;5;34m0\u001b[0m][\u001b[38;5;34m0\u001b[0m],     │\n",
       "│ (\u001b[38;5;33mMultiply\u001b[0m)          │                   │            │ attention_vec[\u001b[38;5;34m0\u001b[0m]… │\n",
       "├─────────────────────┼───────────────────┼────────────┼───────────────────┤\n",
       "│ dense_2 (\u001b[38;5;33mDense\u001b[0m)     │ (\u001b[38;5;45mNone\u001b[0m, \u001b[38;5;34m1\u001b[0m)         │         \u001b[38;5;34m33\u001b[0m │ multiply_2[\u001b[38;5;34m0\u001b[0m][\u001b[38;5;34m0\u001b[0m]  │\n",
       "└─────────────────────┴───────────────────┴────────────┴───────────────────┘\n"
      ]
     },
     "metadata": {},
     "output_type": "display_data"
    },
    {
     "data": {
      "text/html": [
       "<pre style=\"white-space:pre;overflow-x:auto;line-height:normal;font-family:Menlo,'DejaVu Sans Mono',consolas,'Courier New',monospace\"><span style=\"font-weight: bold\"> Total params: </span><span style=\"color: #00af00; text-decoration-color: #00af00\">5,745</span> (22.44 KB)\n",
       "</pre>\n"
      ],
      "text/plain": [
       "\u001b[1m Total params: \u001b[0m\u001b[38;5;34m5,745\u001b[0m (22.44 KB)\n"
      ]
     },
     "metadata": {},
     "output_type": "display_data"
    },
    {
     "data": {
      "text/html": [
       "<pre style=\"white-space:pre;overflow-x:auto;line-height:normal;font-family:Menlo,'DejaVu Sans Mono',consolas,'Courier New',monospace\"><span style=\"font-weight: bold\"> Trainable params: </span><span style=\"color: #00af00; text-decoration-color: #00af00\">5,745</span> (22.44 KB)\n",
       "</pre>\n"
      ],
      "text/plain": [
       "\u001b[1m Trainable params: \u001b[0m\u001b[38;5;34m5,745\u001b[0m (22.44 KB)\n"
      ]
     },
     "metadata": {},
     "output_type": "display_data"
    },
    {
     "data": {
      "text/html": [
       "<pre style=\"white-space:pre;overflow-x:auto;line-height:normal;font-family:Menlo,'DejaVu Sans Mono',consolas,'Courier New',monospace\"><span style=\"font-weight: bold\"> Non-trainable params: </span><span style=\"color: #00af00; text-decoration-color: #00af00\">0</span> (0.00 B)\n",
       "</pre>\n"
      ],
      "text/plain": [
       "\u001b[1m Non-trainable params: \u001b[0m\u001b[38;5;34m0\u001b[0m (0.00 B)\n"
      ]
     },
     "metadata": {},
     "output_type": "display_data"
    }
   ],
   "source": [
    "#建立LSTM模型\n",
    "\n",
    "inputs=Input(shape=(window, input_size))\n",
    "model=Conv1D(filters = lstm_units, kernel_size = 1, activation = 'sigmoid')(inputs)#卷积层\n",
    "model=MaxPooling1D(pool_size = window)(model)#池化层\n",
    "model=Dropout(dropout)(model)#droupout层\n",
    "model=Bidirectional(LSTM(lstm_units, activation='tanh'), name='bilstm')(model)#双向LSTM层\n",
    "attention=Dense(lstm_units*2, activation='sigmoid', name='attention_vec')(model)#求解Attention权重\n",
    "model=Multiply()([model, attention])#attention与LSTM对应数值相乘\n",
    "outputs = Dense(1, activation='tanh')(model)\n",
    "model = Model(inputs=inputs, outputs=outputs)\n",
    "model.compile(loss='mse',optimizer='adam',metrics=['accuracy'])\n",
    "model.summary()#展示模型结构"
   ]
  },
  {
   "cell_type": "code",
   "execution_count": null,
   "metadata": {
    "ExecuteTime": {
     "end_time": "2024-11-13T15:06:13.176231Z",
     "start_time": "2024-11-13T15:05:58.353865Z"
    }
   },
   "outputs": [
    {
     "name": "stdout",
     "output_type": "stream",
     "text": [
      "Epoch 1/60\n"
     ]
    },
    {
     "ename": "ValueError",
     "evalue": "Input 0 of layer \"functional_2\" is incompatible with the layer: expected shape=(None, 5, 26), found shape=(None, 5, 25)",
     "output_type": "error",
     "traceback": [
      "\u001b[1;31m---------------------------------------------------------------------------\u001b[0m",
      "\u001b[1;31mValueError\u001b[0m                                Traceback (most recent call last)",
      "Cell \u001b[1;32mIn[42], line 1\u001b[0m\n\u001b[1;32m----> 1\u001b[0m history\u001b[38;5;241m=\u001b[39m\u001b[43mmodel\u001b[49m\u001b[38;5;241;43m.\u001b[39;49m\u001b[43mfit\u001b[49m\u001b[43m(\u001b[49m\u001b[43mX_train\u001b[49m\u001b[43m,\u001b[49m\u001b[43m \u001b[49m\u001b[43my_train\u001b[49m\u001b[43m,\u001b[49m\u001b[43m \u001b[49m\u001b[43mepochs\u001b[49m\u001b[38;5;241;43m=\u001b[39;49m\u001b[43mepoch\u001b[49m\u001b[43m,\u001b[49m\u001b[43m \u001b[49m\u001b[43mbatch_size\u001b[49m\u001b[43m \u001b[49m\u001b[38;5;241;43m=\u001b[39;49m\u001b[43m \u001b[49m\u001b[38;5;241;43m256\u001b[39;49m\u001b[43m,\u001b[49m\u001b[43mshuffle\u001b[49m\u001b[38;5;241;43m=\u001b[39;49m\u001b[38;5;28;43;01mFalse\u001b[39;49;00m\u001b[43m,\u001b[49m\u001b[43mvalidation_data\u001b[49m\u001b[38;5;241;43m=\u001b[39;49m\u001b[43m(\u001b[49m\u001b[43mX_test\u001b[49m\u001b[43m,\u001b[49m\u001b[43m \u001b[49m\u001b[43my_test\u001b[49m\u001b[43m)\u001b[49m\u001b[43m)\u001b[49m \u001b[38;5;66;03m#训练模型epoch次\u001b[39;00m\n",
      "File \u001b[1;32mc:\\Users\\79365\\anaconda3\\envs\\42\\Lib\\site-packages\\keras\\src\\utils\\traceback_utils.py:122\u001b[0m, in \u001b[0;36mfilter_traceback.<locals>.error_handler\u001b[1;34m(*args, **kwargs)\u001b[0m\n\u001b[0;32m    119\u001b[0m     filtered_tb \u001b[38;5;241m=\u001b[39m _process_traceback_frames(e\u001b[38;5;241m.\u001b[39m__traceback__)\n\u001b[0;32m    120\u001b[0m     \u001b[38;5;66;03m# To get the full stack trace, call:\u001b[39;00m\n\u001b[0;32m    121\u001b[0m     \u001b[38;5;66;03m# `keras.config.disable_traceback_filtering()`\u001b[39;00m\n\u001b[1;32m--> 122\u001b[0m     \u001b[38;5;28;01mraise\u001b[39;00m e\u001b[38;5;241m.\u001b[39mwith_traceback(filtered_tb) \u001b[38;5;28;01mfrom\u001b[39;00m \u001b[38;5;28;01mNone\u001b[39;00m\n\u001b[0;32m    123\u001b[0m \u001b[38;5;28;01mfinally\u001b[39;00m:\n\u001b[0;32m    124\u001b[0m     \u001b[38;5;28;01mdel\u001b[39;00m filtered_tb\n",
      "File \u001b[1;32mc:\\Users\\79365\\anaconda3\\envs\\42\\Lib\\site-packages\\keras\\src\\layers\\input_spec.py:245\u001b[0m, in \u001b[0;36massert_input_compatibility\u001b[1;34m(input_spec, inputs, layer_name)\u001b[0m\n\u001b[0;32m    243\u001b[0m \u001b[38;5;28;01mif\u001b[39;00m spec_dim \u001b[38;5;129;01mis\u001b[39;00m \u001b[38;5;129;01mnot\u001b[39;00m \u001b[38;5;28;01mNone\u001b[39;00m \u001b[38;5;129;01mand\u001b[39;00m dim \u001b[38;5;129;01mis\u001b[39;00m \u001b[38;5;129;01mnot\u001b[39;00m \u001b[38;5;28;01mNone\u001b[39;00m:\n\u001b[0;32m    244\u001b[0m     \u001b[38;5;28;01mif\u001b[39;00m spec_dim \u001b[38;5;241m!=\u001b[39m dim:\n\u001b[1;32m--> 245\u001b[0m         \u001b[38;5;28;01mraise\u001b[39;00m \u001b[38;5;167;01mValueError\u001b[39;00m(\n\u001b[0;32m    246\u001b[0m             \u001b[38;5;124mf\u001b[39m\u001b[38;5;124m'\u001b[39m\u001b[38;5;124mInput \u001b[39m\u001b[38;5;132;01m{\u001b[39;00minput_index\u001b[38;5;132;01m}\u001b[39;00m\u001b[38;5;124m of layer \u001b[39m\u001b[38;5;124m\"\u001b[39m\u001b[38;5;132;01m{\u001b[39;00mlayer_name\u001b[38;5;132;01m}\u001b[39;00m\u001b[38;5;124m\"\u001b[39m\u001b[38;5;124m is \u001b[39m\u001b[38;5;124m'\u001b[39m\n\u001b[0;32m    247\u001b[0m             \u001b[38;5;124m\"\u001b[39m\u001b[38;5;124mincompatible with the layer: \u001b[39m\u001b[38;5;124m\"\u001b[39m\n\u001b[0;32m    248\u001b[0m             \u001b[38;5;124mf\u001b[39m\u001b[38;5;124m\"\u001b[39m\u001b[38;5;124mexpected shape=\u001b[39m\u001b[38;5;132;01m{\u001b[39;00mspec\u001b[38;5;241m.\u001b[39mshape\u001b[38;5;132;01m}\u001b[39;00m\u001b[38;5;124m, \u001b[39m\u001b[38;5;124m\"\u001b[39m\n\u001b[0;32m    249\u001b[0m             \u001b[38;5;124mf\u001b[39m\u001b[38;5;124m\"\u001b[39m\u001b[38;5;124mfound shape=\u001b[39m\u001b[38;5;132;01m{\u001b[39;00mshape\u001b[38;5;132;01m}\u001b[39;00m\u001b[38;5;124m\"\u001b[39m\n\u001b[0;32m    250\u001b[0m         )\n",
      "\u001b[1;31mValueError\u001b[0m: Input 0 of layer \"functional_2\" is incompatible with the layer: expected shape=(None, 5, 26), found shape=(None, 5, 25)"
     ]
    }
   ],
   "source": [
    "history=model.fit(X_train, y_train, epochs=epoch, batch_size = 256,shuffle=False,validation_data=(X_test, y_test)) #训练模型epoch次"
   ]
  },
  {
   "cell_type": "code",
   "execution_count": 14,
   "metadata": {
    "ExecuteTime": {
     "end_time": "2024-11-13T15:06:13.271326Z",
     "start_time": "2024-11-13T15:06:13.178231Z"
    }
   },
   "outputs": [
    {
     "data": {
      "image/png": "[encoded data removed]",
      "text/plain": [
       "<Figure size 640x480 with 1 Axes>"
      ]
     },
     "metadata": {},
     "output_type": "display_data"
    }
   ],
   "source": [
    "#迭代图像\n",
    "loss = history.history['loss']\n",
    "val_loss = history.history['val_loss']\n",
    "epochs_range = range(epoch)\n",
    "plt.plot(epochs_range, loss, label='Train Loss')\n",
    "plt.plot(epochs_range, val_loss, label='Test Loss')\n",
    "plt.legend(loc='upper right')\n",
    "plt.title('Train and Val Loss')\n",
    "plt.show()"
   ]
  },
  {
   "cell_type": "code",
   "execution_count": 36,
   "metadata": {
    "ExecuteTime": {
     "end_time": "2024-11-13T15:06:14.499733Z",
     "start_time": "2024-11-13T15:06:13.273326Z"
    }
   },
   "outputs": [
    {
     "name": "stdout",
     "output_type": "stream",
     "text": [
      "\u001b[1m6/6\u001b[0m \u001b[32m━━━━━━━━━━━━━━━━━━━━\u001b[0m\u001b[37m\u001b[0m \u001b[1m0s\u001b[0m 39ms/step\n"
     ]
    },
    {
     "data": {
      "text/plain": [
       "Text(0.5, 1.0, 'Train Data')"
      ]
     },
     "execution_count": 36,
     "metadata": {},
     "output_type": "execute_result"
    },
    {
     "data": {
      "image/png": "[encoded data removed]",
      "text/plain": [
       "<Figure size 1200x600 with 1 Axes>"
      ]
     },
     "metadata": {},
     "output_type": "display_data"
    }
   ],
   "source": [
    "#在训练集上的拟合结果\n",
    "y_train_predict=model.predict(X_train)\n",
    "y_train_predict=y_train_predict[:,0]\n",
    "draw=pd.concat([pd.DataFrame(y_train),pd.DataFrame(y_train_predict)],axis=1)\n",
    "draw.iloc[200:500,0].plot(figsize=(12,6))\n",
    "draw.iloc[200:500,1].plot(figsize=(12,6))\n",
    "plt.legend(('real', 'predict'),fontsize='15')\n",
    "plt.title(\"Train Data\",fontsize='30') #添加标题"
   ]
  },
  {
   "cell_type": "code",
   "execution_count": 37,
   "metadata": {
    "ExecuteTime": {
     "end_time": "2024-11-13T15:06:14.763691Z",
     "start_time": "2024-11-13T15:06:14.499733Z"
    }
   },
   "outputs": [
    {
     "name": "stdout",
     "output_type": "stream",
     "text": [
      "\u001b[1m4/4\u001b[0m \u001b[32m━━━━━━━━━━━━━━━━━━━━\u001b[0m\u001b[37m\u001b[0m \u001b[1m0s\u001b[0m 2ms/step \n"
     ]
    },
    {
     "data": {
      "text/plain": [
       "Text(0.5, 1.0, 'Test Data')"
      ]
     },
     "execution_count": 37,
     "metadata": {},
     "output_type": "execute_result"
    },
    {
     "data": {
      "image/png": "[encoded data removed]",
      "text/plain": [
       "<Figure size 1200x600 with 1 Axes>"
      ]
     },
     "metadata": {},
     "output_type": "display_data"
    }
   ],
   "source": [
    "#在测试集上的预测\n",
    "y_test_predict=model.predict(X_test)\n",
    "y_test_predict=y_test_predict[:,0]\n",
    "draw=pd.concat([pd.DataFrame(y_test),pd.DataFrame(y_test_predict)],axis=1)\n",
    "draw.iloc[200:500,0].plot(figsize=(12,6))\n",
    "draw.iloc[200:500,1].plot(figsize=(12,6))\n",
    "plt.legend(('real', 'predict'),loc='upper right',fontsize='15')\n",
    "plt.title(\"Test Data\",fontsize='30') #添加标题"
   ]
  },
  {
   "cell_type": "code",
   "execution_count": 38,
   "metadata": {
    "ExecuteTime": {
     "end_time": "2024-11-13T15:06:14.810031Z",
     "start_time": "2024-11-13T15:06:14.766068Z"
    }
   },
   "outputs": [
    {
     "name": "stdout",
     "output_type": "stream",
     "text": [
      "训练集上的MAE/MSE/MAPE/涨跌准确率\n",
      "0.1875143470269349\n",
      "0.053497789027790385\n",
      "39.10635401990312\n",
      "0.37423312883435583\n",
      "测试集上的MAE/MSE/MAPE/涨跌准确率\n",
      "0.2968577728880743\n",
      "0.09349369731085963\n",
      "62.206324518322596\n",
      "0.4166666666666667\n"
     ]
    }
   ],
   "source": [
    "#输出结果\n",
    "def mape(y_true, y_pred):\n",
    "    return np.mean(np.abs((y_pred - y_true) / y_true)) * 100\n",
    "def up_down_accuracy(y_true, y_pred):\n",
    "    y_var_test=y_true[1:]-y_true[:len(y_true)-1]#实际涨跌\n",
    "    y_var_predict=y_pred[1:]-y_pred[:len(y_pred)-1]#原始涨跌\n",
    "    txt=np.zeros(len(y_var_test))\n",
    "    for i in range(len(y_var_test-1)):#计算数量\n",
    "        txt[i]=np.sign(y_var_test[i])==np.sign(y_var_predict[i])\n",
    "    result=sum(txt)/len(txt)\n",
    "    return result\n",
    "print('训练集上的MAE/MSE/MAPE/涨跌准确率')\n",
    "print(mean_absolute_error(y_train_predict, y_train))\n",
    "print(mean_squared_error(y_train_predict, y_train) )\n",
    "print(mape(y_train_predict, y_train) )\n",
    "print(up_down_accuracy(y_train_predict,y_train))\n",
    "print('测试集上的MAE/MSE/MAPE/涨跌准确率')\n",
    "print(mean_absolute_error(y_test_predict, y_test))\n",
    "print(mean_squared_error(y_test_predict, y_test) )\n",
    "print(mape(y_test_predict,  y_test) )\n",
    "print(up_down_accuracy(y_test_predict,y_test))"
   ]
  },
  {
   "cell_type": "code",
   "execution_count": 39,
   "metadata": {},
   "outputs": [
    {
     "name": "stdout",
     "output_type": "stream",
     "text": [
      "训练集上的 R²: -0.0093\n",
      "训练集上的 Pearson 相关系数: -0.0187\n",
      "测试集上的 R²: -17.8708\n",
      "测试集上的 Pearson 相关系数: -0.2168\n",
      "训练集上的 RMSEC: 0.2313\n",
      "测试集上的 RMSEP: 0.3058\n",
      "训练集上的 R² 开根号: nan\n",
      "测试集上的 R² 开根号: nan\n"
     ]
    },
    {
     "name": "stderr",
     "output_type": "stream",
     "text": [
      "C:\\Users\\79365\\AppData\\Local\\Temp\\ipykernel_62952\\1931018968.py:28: RuntimeWarning: invalid value encountered in sqrt\n",
      "  r2_train_sqrt = np.sqrt(r2_train)\n",
      "C:\\Users\\79365\\AppData\\Local\\Temp\\ipykernel_62952\\1931018968.py:29: RuntimeWarning: invalid value encountered in sqrt\n",
      "  r2_test_sqrt = np.sqrt(r2_test)\n"
     ]
    }
   ],
   "source": [
    "from sklearn.metrics import r2_score\n",
    "from scipy.stats import pearsonr\n",
    "# 训练集 R² 和 Pearson 相关系数\n",
    "r2_train = r2_score(y_train, y_train_predict)\n",
    "pearson_train, _ = pearsonr(y_train, y_train_predict)\n",
    "\n",
    "# 测试集 R² 和 Pearson 相关系数\n",
    "r2_test = r2_score(y_test, y_test_predict)\n",
    "pearson_test, _ = pearsonr(y_test, y_test_predict)\n",
    "\n",
    "# 输出结果\n",
    "print(f\"训练集上的 R²: {r2_train:.4f}\")\n",
    "print(f\"训练集上的 Pearson 相关系数: {pearson_train:.4f}\")\n",
    "print(f\"测试集上的 R²: {r2_test:.4f}\")\n",
    "print(f\"测试集上的 Pearson 相关系数: {pearson_test:.4f}\")\n",
    "import numpy as np\n",
    "\n",
    "# 计算训练集 RMSEC\n",
    "rmsec = np.sqrt(np.mean((y_train - y_train_predict) ** 2))\n",
    "\n",
    "# 计算测试集 RMSEP\n",
    "rmsep = np.sqrt(np.mean((y_test - y_test_predict) ** 2))\n",
    "\n",
    "# 输出结果\n",
    "print(f\"训练集上的 RMSEC: {rmsec:.4f}\")\n",
    "print(f\"测试集上的 RMSEP: {rmsep:.4f}\")\n",
    "# 对 R² 开根号\n",
    "r2_train_sqrt = np.sqrt(r2_train)\n",
    "r2_test_sqrt = np.sqrt(r2_test)\n",
    "\n",
    "# 输出结果\n",
    "print(f\"训练集上的 R² 开根号: {r2_train_sqrt:.4f}\")\n",
    "print(f\"测试集上的 R² 开根号: {r2_test_sqrt:.4f}\")"
   ]
  }
 ],
 "metadata": {
  "kernelspec": {
   "display_name": "42",
   "language": "python",
   "name": "python3"
  },
  "language_info": {
   "codemirror_mode": {
    "name": "ipython",
    "version": 3
   },
   "file_extension": ".py",
   "mimetype": "text/x-python",
   "name": "python",
   "nbconvert_exporter": "python",
   "pygments_lexer": "ipython3",
   "version": "3.12.4"
  }
 },
 "nbformat": 4,
 "nbformat_minor": 2
}
